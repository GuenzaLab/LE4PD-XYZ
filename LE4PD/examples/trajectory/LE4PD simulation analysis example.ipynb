{
 "cells": [
  {
   "cell_type": "markdown",
   "metadata": {},
   "source": [
    "# Example LE4PD Analysis for a Simulation Trajectory"
   ]
  },
  {
   "cell_type": "code",
   "execution_count": 1,
   "metadata": {},
   "outputs": [],
   "source": [
    "#Import the required libraries\n",
    "\n",
    "from LE4PD.molecule import protein\n",
    "import LE4PD.util\n",
    "import importlib"
   ]
  },
  {
   "cell_type": "code",
   "execution_count": 2,
   "metadata": {},
   "outputs": [],
   "source": [
    "#Analyze a single protein\n",
    "\n",
    "#Time it\n",
    "#%%time\n",
    "\n",
    "#Load trajectory and topology file\n",
    "traj_file = \"data/1UBQ.g96\"\n",
    "top_file = \"data/1UBQ_top.pdb\"\n",
    "\n",
    "#Initialize LE4PD object -- be sure to use the correct temperature!\n",
    "mol = protein(method = 'simulation', T = 300)\n",
    "\n",
    "#Load the LE4PD object with some useful data (number of residues in the protein,\n",
    "#number of frames in the trajectory, etc.)\n",
    "mol.load(traj_file, top_file)\n",
    "\n",
    "#Generate an unformatted trajectory storied as a .npy file for ease of loading data\n",
    "mol.prepare_traj()"
   ]
  },
  {
   "cell_type": "code",
   "execution_count": 3,
   "metadata": {},
   "outputs": [
    {
     "name": "stdout",
     "output_type": "stream",
     "text": [
      "data/1UBQ 76 50001 1231\n",
      "fratio:  0.2104487082924623\n",
      "Temperature (K):  300\n",
      "Internal viscosity factor:  2.71828\n",
      "Viscosity (Pa s):  0.001\n",
      "fd20 0.0\n",
      "76 50001\n",
      "data/1UBQ 76 50001\n"
     ]
    },
    {
     "name": "stderr",
     "output_type": "stream",
     "text": [
      "/Users/chemstudent/Desktop/Desktop/LE4PD_XYZ/LE4PD/codes/LE4PD_XYZ.py:386: RuntimeWarning: divide by zero encountered in log\n",
      "  fes = -kT*np.log(his)\n"
     ]
    }
   ],
   "source": [
    "#Calculate the U matrix\n",
    "mol.calc_Cmatrix()\n",
    "\n",
    "#Calculate the friction coefficients; viscosity of solvent is in units of Pa s .\n",
    "mol.fric_calc(intv = 2.71828, viscosity = 1e-3, fd20 = 0.0, path_to_resarea = 'data/1UBQ/')\n",
    "\n",
    "mol.Rij()\n",
    "#Calculate the H, M, a, L, and the eigendecomposition of the LU matrix\n",
    "mol.hydrodynamics()\n",
    "\n",
    "#Calculate free-energy surfaces and barrier heights for the specified number of modes \n",
    "mol.mode_mad(nmodes = 10)\n",
    "\n",
    "\n",
    "#Calculate the local mode lengthscale for each mode\n",
    "mol.LML()"
   ]
  },
  {
   "cell_type": "code",
   "execution_count": 4,
   "metadata": {},
   "outputs": [
    {
     "data": {
      "text/plain": [
       "0.010599934171611742"
      ]
     },
     "execution_count": 4,
     "metadata": {},
     "output_type": "execute_result"
    }
   ],
   "source": [
    "mol.fric.mean()"
   ]
  },
  {
   "cell_type": "code",
   "execution_count": 7,
   "metadata": {},
   "outputs": [
    {
     "name": "stdout",
     "output_type": "stream",
     "text": [
      "Overwriting mol.p. I do hope that is okay.\n"
     ]
    }
   ],
   "source": [
    "#Save the model using pickle\n",
    "LE4PD.util.model.save(mol, filename = \"mol.p\")"
   ]
  },
  {
   "cell_type": "code",
   "execution_count": 8,
   "metadata": {},
   "outputs": [],
   "source": [
    "#Load the object (with full functionality) again using pickle\n",
    "mol2 = LE4PD.util.model.load(filename = \"mol.p\")"
   ]
  },
  {
   "cell_type": "code",
   "execution_count": null,
   "metadata": {},
   "outputs": [],
   "source": []
  }
 ],
 "metadata": {
  "kernelspec": {
   "display_name": "Python 3",
   "language": "python",
   "name": "python3"
  },
  "language_info": {
   "codemirror_mode": {
    "name": "ipython",
    "version": 3
   },
   "file_extension": ".py",
   "mimetype": "text/x-python",
   "name": "python",
   "nbconvert_exporter": "python",
   "pygments_lexer": "ipython3",
   "version": "3.7.6"
  }
 },
 "nbformat": 4,
 "nbformat_minor": 4
}
