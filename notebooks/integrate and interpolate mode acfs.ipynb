{
 "cells": [
  {
   "cell_type": "code",
   "execution_count": 1,
   "metadata": {},
   "outputs": [
    {
     "name": "stderr",
     "output_type": "stream",
     "text": [
      "/home/ebeyerle/bin/anaconda3/envs/pyemma_tutorials/lib/python3.6/importlib/_bootstrap.py:219: RuntimeWarning: numpy.dtype size changed, may indicate binary incompatibility. Expected 96, got 88\n",
      "  return f(*args, **kwds)\n",
      "/home/ebeyerle/bin/anaconda3/envs/pyemma_tutorials/lib/python3.6/site-packages/pyemma/__init__.py:130: UserWarning: You are not using the latest release of PyEMMA. Latest is 2.5.7, you have 2.5.4.\n",
      "  .format(latest=latest, current=current), category=UserWarning)\n",
      "/home/ebeyerle/bin/anaconda3/envs/pyemma_tutorials/lib/python3.6/importlib/_bootstrap.py:219: RuntimeWarning: numpy.dtype size changed, may indicate binary incompatibility. Expected 96, got 88\n",
      "  return f(*args, **kwds)\n"
     ]
    },
    {
     "name": "stdout",
     "output_type": "stream",
     "text": [
      "/media/ebeyerle/ducks2/1mus/0.2ps_step\n"
     ]
    }
   ],
   "source": [
    "#Import the required libraries\n",
    "import numpy as np\n",
    "import sklearn\n",
    "import matplotlib.pyplot as plt\n",
    "import pyemma\n",
    "from copy import deepcopy\n",
    "import numpy as np\n",
    "import physt\n",
    "import os\n",
    "import scipy.optimize\n",
    "import scipy.integrate\n",
    "import pandas\n",
    "import matplotlib.image as mpi\n",
    "\n",
    "print(os.getcwd())"
   ]
  },
  {
   "cell_type": "code",
   "execution_count": 2,
   "metadata": {
    "collapsed": true
   },
   "outputs": [],
   "source": [
    "def stretch(x,a,b):\n",
    "    return np.exp(-(x/a)**b)"
   ]
  },
  {
   "cell_type": "code",
   "execution_count": null,
   "metadata": {},
   "outputs": [
    {
     "name": "stdout",
     "output_type": "stream",
     "text": [
      "8888.319797609996\n",
      "8131.57922012999\n",
      "8142.034353008372\n",
      "9844.636959335441\n",
      "8968.236650665269\n",
      "44206.56183185728\n",
      "5060.563612357937\n",
      "5924.311045630037\n",
      "2107.919368060592\n",
      "2119.26784598185\n",
      "1700.070712366486\n",
      "3621.6653262170307\n",
      "4564.856980741831\n",
      "15271.675819676675\n",
      "4318.911591723375\n",
      "2541.957688499057\n",
      "1878.2992802650617\n",
      "2968.62230732313\n",
      "4859.85568343188\n",
      "1212.4121000032446\n",
      "1326.6210556103588\n",
      "3182.2463703309695\n",
      "972.6889771677803\n",
      "2066.957488465694\n",
      "4231.604796963147\n",
      "1879.2964333022874\n",
      "1332.5285929810343\n",
      "2369.39636174967\n",
      "1680.936451700223\n",
      "5587.4038743625115\n",
      "543.0441568751272\n",
      "4048.738935757984\n",
      "1344.1196075459984\n",
      "1000.9834177199414\n",
      "1889.7347626564986\n",
      "847.328066863467\n",
      "594.1966538222981\n",
      "1007.924510719061\n",
      "790.0847641713223\n",
      "514.1976206825086\n",
      "2249.754769730918\n",
      "634.0416484294188\n",
      "1358.0666358284043\n",
      "945.6552856850343\n",
      "910.5975396615811\n",
      "2467.376897714456\n",
      "711.3775828972749\n",
      "532.62693984398\n",
      "563.0450227188718\n",
      "1022.9696186105077\n"
     ]
    }
   ],
   "source": [
    "#Integrate the mode autocorrelation functions to find a correlation time\n",
    "\n",
    "integrals = np.zeros(72)\n",
    "for a in range(4,76):\n",
    "    acf4 = np.loadtxt('mode_corr_'+str(a))\n",
    "    first_zero = np.where(acf4[:,1] <= 0)[0][0]\n",
    "    integrals[a - 4] = scipy.integrate.trapz(acf4[:first_zero,1],x=acf4[:first_zero,0])\n",
    "    print(integrals[a -4])\n",
    "    \n",
    "np.savetxt('mode_corr_integrals.dat',integrals)"
   ]
  },
  {
   "cell_type": "code",
   "execution_count": null,
   "metadata": {
    "collapsed": true
   },
   "outputs": [],
   "source": [
    "tau_scaled = np.loadtxt('tau_scaled.dat')[:,1]\n",
    "tau = np.loadtxt('tau.dat')[:,1]"
   ]
  },
  {
   "cell_type": "code",
   "execution_count": null,
   "metadata": {
    "collapsed": true
   },
   "outputs": [],
   "source": [
    "#Fit power laws to the decays\n",
    "\n",
    "plt.plot(np.arange(4,76),tau[3:],lw=0.5,marker='o',ls='--',c='k',label='LE4PD')\n",
    "params,params_covar = scipy.optimize.curve_fit(pfunc,np.arange(4,12),tau[3:11])\n",
    "\n",
    "print(params)\n",
    "plt.plot(np.arange(4,12),params[0]*(np.arange(4,12))**(-params[1]),lw=2,c='c')\n",
    "\n",
    "params,params_covar = scipy.optimize.curve_fit(pfunc,np.arange(11,76),tau[10:])\n",
    "\n",
    "print(params)\n",
    "plt.plot(np.arange(4,76),params[0]*(np.arange(4,76))**(-params[1]),lw=2,c='m')\n",
    "\n",
    "plt.plot(np.arange(4,76),tau_scaled[3:],lw=0.5,marker='o',ls='--',c='r',label='LE4PD-MAD')\n",
    "params,params_covar = scipy.optimize.curve_fit(pfunc,np.arange(4,12),tau_scaled[3:11])\n",
    "\n",
    "print(params)\n",
    "plt.plot(np.arange(4,12),params[0]*(np.arange(4,12))**(-params[1]),lw=2,c='c')\n",
    "\n",
    "params,params_covar = scipy.optimize.curve_fit(pfunc,np.arange(11,76),tau_scaled[10:])\n",
    "\n",
    "print(params)\n",
    "plt.plot(np.arange(4,76),params[0]*(np.arange(4,76))**(-params[1]),lw=2,c='m')\n",
    "\n",
    "plt.plot(np.arange(4,76),integrals,lw=0.5,marker='o',ls='--',c='b',label='ACF integral')\n",
    "params,params_covar = scipy.optimize.curve_fit(pfunc,np.arange(4,76),integrals)\n",
    "\n",
    "print(params)\n",
    "plt.plot(np.arange(4,76),params[0]*(np.arange(4,76))**(-params[1]),lw=2,c='k')\n",
    "\n",
    "plt.xlabel('mode, a',fontsize=16)\n",
    "plt.ylabel(r'$\\tau$, ps',fontsize=16)\n",
    "plt.xticks([4,10,20,30,40,50,60,70],size=12)\n",
    "plt.yticks(size=12)\n",
    "plt.yscale('log')\n",
    "plt.xscale('log')\n",
    "plt.legend()\n",
    "plt.show()\n",
    "plt.close()"
   ]
  },
  {
   "cell_type": "code",
   "execution_count": 4,
   "metadata": {},
   "outputs": [
    {
     "data": {
      "image/png": "[encoded data removed]",
      "text/plain": [
       "<Figure size 432x288 with 1 Axes>"
      ]
     },
     "metadata": {
      "needs_background": "light"
     },
     "output_type": "display_data"
    }
   ],
   "source": [
    "plt.plot(np.arange(4,76),tau[3:],lw=0.5,marker='o',ls='--',c='k',label='LE4PD')\n",
    "plt.plot(np.arange(4,76),tau_scaled[3:],lw=0.5,marker='o',ls='--',c='r',label='LE4PD-MAD')\n",
    "plt.plot(np.arange(4,76),integrals,lw=0.5,marker='o',ls='--',c='b',label='ACF integral')\n",
    "plt.xlabel('mode, a',fontsize=16)\n",
    "plt.ylabel(r'$\\tau$, ps',fontsize=16)\n",
    "plt.xticks([4,10,20,30,40,50,60,70],size=12)\n",
    "plt.yticks(size=12)\n",
    "plt.yscale('log')\n",
    "plt.xscale('log')\n",
    "plt.legend()\n",
    "plt.show()\n",
    "plt.close()"
   ]
  },
  {
   "cell_type": "code",
   "execution_count": 5,
   "metadata": {
    "collapsed": true
   },
   "outputs": [],
   "source": [
    "tau = np.loadtxt('tau.dat')[:,1]"
   ]
  },
  {
   "cell_type": "code",
   "execution_count": 10,
   "metadata": {
    "collapsed": true
   },
   "outputs": [],
   "source": [
    "acf_msm = np.loadtxt('acf_xi_4_msm.dat')\n",
    "acf4 = np.loadtxt('mode_corr_4')"
   ]
  },
  {
   "cell_type": "code",
   "execution_count": 15,
   "metadata": {
    "collapsed": true
   },
   "outputs": [],
   "source": [
    "#Test interpolation scheme for the first internal mode\n",
    "#20 ps -> 250 ps (?)\n",
    "\n",
    "x0 = 20\n",
    "x1 = 250\n",
    "y0 = np.exp(-20/tau[3])\n",
    "y1 = acf_msm[np.where(acf_msm[:,0] == x1)[0][0]][1]\n",
    "xaxis = np.linspace(x0,x1,100)\n",
    "yinter = y0*(y1/y0)**((xaxis - x0)/(x1 - x0))\n",
    "linter = y0 + (y1 - y0)*((xaxis - x0)/(x1 - x0))"
   ]
  },
  {
   "cell_type": "code",
   "execution_count": 12,
   "metadata": {
    "collapsed": true
   },
   "outputs": [],
   "source": [
    "step = 0.2\n",
    "taxis1 = acf4[:int(x0/step),0]\n",
    "taxis2 = acf_msm[np.where(acf_msm[:,0] == x1)[0][0]:,0]"
   ]
  },
  {
   "cell_type": "code",
   "execution_count": 17,
   "metadata": {},
   "outputs": [
    {
     "data": {
      "image/png": "[encoded data removed]",
      "text/plain": [
       "<Figure size 432x288 with 1 Axes>"
      ]
     },
     "metadata": {
      "needs_background": "light"
     },
     "output_type": "display_data"
    }
   ],
   "source": [
    "plt.plot(acf4[:,0],acf4[:,1],lw=2,c='k')\n",
    "plt.plot(taxis1,np.exp(-taxis1/tau[3]),lw=2,c='r')\n",
    "plt.plot(xaxis,yinter,lw=2,c='r')\n",
    "plt.plot(xaxis,linter,lw=2,c='b')\n",
    "plt.plot(taxis2,acf_msm[np.where(acf_msm[:,0] == x1)[0][0]:,1],lw=2,c='r')\n",
    "plt.xlabel('t, ps',fontsize=16)\n",
    "plt.ylabel(r'ACF',fontsize=16)\n",
    "plt.xticks(size=12)\n",
    "plt.yticks(size=12)\n",
    "#plt.yscale('log')\n",
    "plt.xscale('log')\n",
    "plt.show()\n",
    "plt.close()"
   ]
  },
  {
   "cell_type": "code",
   "execution_count": null,
   "metadata": {
    "collapsed": true
   },
   "outputs": [],
   "source": []
  }
 ],
 "metadata": {
  "anaconda-cloud": {},
  "kernelspec": {
   "display_name": "Python [conda env:pyemma_tutorials]",
   "language": "python",
   "name": "conda-env-pyemma_tutorials-py"
  },
  "language_info": {
   "codemirror_mode": {
    "name": "ipython",
    "version": 3
   },
   "file_extension": ".py",
   "mimetype": "text/x-python",
   "name": "python",
   "nbconvert_exporter": "python",
   "pygments_lexer": "ipython3",
   "version": "3.6.7"
  }
 },
 "nbformat": 4,
 "nbformat_minor": 2
}
