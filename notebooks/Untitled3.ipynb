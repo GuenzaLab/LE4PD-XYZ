{
 "cells": [
  {
   "cell_type": "code",
   "execution_count": 1,
   "metadata": {},
   "outputs": [
    {
     "name": "stderr",
     "output_type": "stream",
     "text": [
      "/home/ebeyerle/bin/anaconda3/envs/pyemma_tutorials/lib/python3.7/site-packages/pyemma/util/log.py:64: YAMLLoadWarning: calling yaml.load() without Loader=... is deprecated, as the default Loader is unsafe. Please read https://msg.pyyaml.org/load for full details.\n",
      "  D = yaml.load(f2)\n"
     ]
    }
   ],
   "source": [
    "import numpy as np\n",
    "import matplotlib.pyplot as plt\n",
    "import pyemma\n",
    "import os"
   ]
  },
  {
   "cell_type": "code",
   "execution_count": 2,
   "metadata": {},
   "outputs": [
    {
     "name": "stderr",
     "output_type": "stream",
     "text": [
      "/home/ebeyerle/bin/anaconda3/envs/pyemma_tutorials/lib/python3.7/site-packages/pyemma/__init__.py:92: UserWarning: You are not using the latest release of PyEMMA. Latest is 2.5.7, you have 2.5.5.\n",
      "  .format(latest=latest, current=current), category=UserWarning)\n"
     ]
    }
   ],
   "source": [
    "traj = np.load('../unformatted_traj.npy')"
   ]
  },
  {
   "cell_type": "code",
   "execution_count": 4,
   "metadata": {},
   "outputs": [
    {
     "name": "stdout",
     "output_type": "stream",
     "text": [
      "(5000000, 228)\n"
     ]
    }
   ],
   "source": [
    "traj = traj.T; print(traj.shape)"
   ]
  },
  {
   "cell_type": "code",
   "execution_count": 5,
   "metadata": {},
   "outputs": [
    {
     "name": "stdout",
     "output_type": "stream",
     "text": [
      "(228, 5000000)\n"
     ]
    }
   ],
   "source": [
    "traj = traj.T; print(traj.shape)"
   ]
  },
  {
   "cell_type": "code",
   "execution_count": 5,
   "metadata": {},
   "outputs": [],
   "source": [
    "avg_corr = traj.mean(1)\n",
    "\n",
    "dummy = np.copy(traj)\n",
    "for i in range(traj.shape[0]):\n",
    "    dummy[i, :] = dummy[i, :] - avg_corr[i]"
   ]
  },
  {
   "cell_type": "code",
   "execution_count": 10,
   "metadata": {},
   "outputs": [
    {
     "name": "stdout",
     "output_type": "stream",
     "text": [
      "CPU times: user 11 µs, sys: 0 ns, total: 11 µs\n",
      "Wall time: 19.6 µs\n"
     ]
    },
    {
     "data": {
      "text/plain": [
       "0.3776436198836276"
      ]
     },
     "execution_count": 10,
     "metadata": {},
     "output_type": "execute_result"
    }
   ],
   "source": [
    "%%time\n",
    "dummy[res,k]**2 + dummy[res+1,k]**2 + dummy[res+2,k]**2"
   ]
  },
  {
   "cell_type": "code",
   "execution_count": 11,
   "metadata": {},
   "outputs": [
    {
     "name": "stdout",
     "output_type": "stream",
     "text": [
      "CPU times: user 73 µs, sys: 3 µs, total: 76 µs\n",
      "Wall time: 79.6 µs\n"
     ]
    },
    {
     "data": {
      "text/plain": [
       "0.3776436198836276"
      ]
     },
     "execution_count": 11,
     "metadata": {},
     "output_type": "execute_result"
    }
   ],
   "source": [
    "%%time\n",
    "np.dot(dummy[res:res+3,k], dummy[res:res+3,k])"
   ]
  },
  {
   "cell_type": "code",
   "execution_count": 13,
   "metadata": {},
   "outputs": [
    {
     "name": "stdout",
     "output_type": "stream",
     "text": [
      "CPU times: user 10min 24s, sys: 24 ms, total: 10min 25s\n",
      "Wall time: 10min 25s\n"
     ]
    }
   ],
   "source": [
    "%%time\n",
    "msdr = np.zeros(traj.shape[0] // 3)\n",
    "nfrs = traj.shape[1]\n",
    "nres = traj.shape[0] // 3\n",
    "for k in range(nfrs):\n",
    "    for i, res in enumerate(range(0,3*nres,3)):\n",
    "        msdr[i] += np.dot(dummy[res:res+3,k], dummy[res:res+3,k])\n",
    "msdr = msdr / nfrs"
   ]
  },
  {
   "cell_type": "code",
   "execution_count": 14,
   "metadata": {},
   "outputs": [
    {
     "name": "stdout",
     "output_type": "stream",
     "text": [
      "CPU times: user 11min 37s, sys: 12.8 ms, total: 11min 37s\n",
      "Wall time: 11min 37s\n"
     ]
    }
   ],
   "source": [
    "%%time\n",
    "msdr = np.zeros(traj.shape[0] // 3)\n",
    "nfrs = traj.shape[1]\n",
    "nres = traj.shape[0] // 3\n",
    "for k in range(nfrs):\n",
    "    for i, res in enumerate(range(0,3*nres,3)):\n",
    "        msdr[i] += dummy[res,k]**2 + dummy[res+1,k]**2 + dummy[res+2,k]**2\n",
    "msdr = msdr / nfrs"
   ]
  },
  {
   "cell_type": "code",
   "execution_count": 7,
   "metadata": {},
   "outputs": [
    {
     "data": {
      "text/plain": [
       "array([0.82834392, 0.69472291, 0.52431983, 0.48745606, 0.50648787,\n",
       "       0.63128825, 1.32041312, 2.09809911, 1.86266786, 1.46467872,\n",
       "       1.17597636, 0.84318708, 0.84897672, 0.69570962, 0.62017617,\n",
       "       0.69232342, 0.60499932, 0.71661491, 0.81396348, 0.82992229,\n",
       "       0.65606857, 0.67748817, 0.66680432, 0.79778474, 0.67548379,\n",
       "       0.55091082, 0.61226391, 0.68587872, 0.64217297, 0.64965745,\n",
       "       0.78925073, 0.91929444, 1.00280746, 0.99811116, 1.00487856,\n",
       "       0.99484739, 1.03060269, 0.92797572, 1.09982831, 0.93612439,\n",
       "       0.79321706, 0.80658379, 0.6638724 , 0.71862129, 0.7184928 ,\n",
       "       1.11918246, 1.24895939, 1.08675001, 0.93705524, 0.83954068,\n",
       "       1.01371493, 1.32876405, 1.40377577, 1.02997658, 0.74740077,\n",
       "       0.62118548, 0.83837147, 0.9369581 , 0.82539312, 0.88035385,\n",
       "       0.70601784, 0.81249993, 0.76184128, 0.72588767, 0.60293919,\n",
       "       0.54826348, 0.52407082, 0.61476778, 0.67842689, 0.8662792 ,\n",
       "       0.8784453 , 1.28649736, 2.34079567, 3.6797515 , 5.28927734,\n",
       "       7.39175135])"
      ]
     },
     "execution_count": 7,
     "metadata": {},
     "output_type": "execute_result"
    }
   ],
   "source": [
    "np.sqrt(msdr*100)"
   ]
  },
  {
   "cell_type": "code",
   "execution_count": null,
   "metadata": {},
   "outputs": [],
   "source": []
  }
 ],
 "metadata": {
  "kernelspec": {
   "display_name": "Python 3",
   "language": "python",
   "name": "python3"
  },
  "language_info": {
   "codemirror_mode": {
    "name": "ipython",
    "version": 3
   },
   "file_extension": ".py",
   "mimetype": "text/x-python",
   "name": "python",
   "nbconvert_exporter": "python",
   "pygments_lexer": "ipython3",
   "version": "3.7.3"
  }
 },
 "nbformat": 4,
 "nbformat_minor": 2
}
