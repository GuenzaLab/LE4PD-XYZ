{
 "cells": [
  {
   "cell_type": "code",
   "execution_count": 8,
   "metadata": {
    "ExecuteTime": {
     "end_time": "2020-10-06T20:56:43.311050Z",
     "start_time": "2020-10-06T20:56:42.999343Z"
    }
   },
   "outputs": [],
   "source": [
    "import numpy as np\n",
    "import matplotlib.pyplot as plt"
   ]
  },
  {
   "cell_type": "code",
   "execution_count": 2,
   "metadata": {
    "ExecuteTime": {
     "end_time": "2020-10-06T20:54:15.792513Z",
     "start_time": "2020-10-06T20:54:15.580727Z"
    }
   },
   "outputs": [],
   "source": [
    "covar = np.reshape(np.loadtxt('../com_covariance_matrix.dat'), (228, 228))"
   ]
  },
  {
   "cell_type": "code",
   "execution_count": 4,
   "metadata": {
    "ExecuteTime": {
     "end_time": "2020-10-06T20:54:39.628888Z",
     "start_time": "2020-10-06T20:54:39.612247Z"
    }
   },
   "outputs": [],
   "source": [
    "eigvals, eigvecs = np.linalg.eigh(covar)"
   ]
  },
  {
   "cell_type": "code",
   "execution_count": 6,
   "metadata": {
    "ExecuteTime": {
     "end_time": "2020-10-06T20:56:27.267710Z",
     "start_time": "2020-10-06T20:56:27.230135Z"
    }
   },
   "outputs": [],
   "source": [
    "A = np.zeros_like(covar)\n",
    "\n",
    "for i in range(eigvecs.shape[0]):\n",
    "    if eigvals[i] >= 1e-10:\n",
    "        A += (eigvals[i]**-1)*np.outer(eigvecs[:,i], eigvecs[:,i])"
   ]
  },
  {
   "cell_type": "code",
   "execution_count": 7,
   "metadata": {
    "ExecuteTime": {
     "end_time": "2020-10-06T20:56:28.487959Z",
     "start_time": "2020-10-06T20:56:28.484295Z"
    }
   },
   "outputs": [
    {
     "data": {
      "text/plain": [
       "array([[ 2.21023039e+04,  6.46677003e+03, -9.53210764e+02, ...,\n",
       "         4.96284917e+00,  4.29641523e+00, -7.17918105e+00],\n",
       "       [ 6.46677003e+03,  4.83549344e+03,  1.40972781e+03, ...,\n",
       "         2.06821925e+00, -3.81636853e+00, -4.97383621e+00],\n",
       "       [-9.53210764e+02,  1.40972781e+03,  3.83869100e+03, ...,\n",
       "         1.63729900e+00, -9.70114045e+00,  2.05626309e+00],\n",
       "       ...,\n",
       "       [ 4.96284917e+00,  2.06821925e+00,  1.63729900e+00, ...,\n",
       "         3.50320823e+01,  1.47158213e+00,  2.64775239e+00],\n",
       "       [ 4.29641523e+00, -3.81636853e+00, -9.70114045e+00, ...,\n",
       "         1.47158213e+00,  2.79281465e+01, -3.14570020e+00],\n",
       "       [-7.17918105e+00, -4.97383621e+00,  2.05626309e+00, ...,\n",
       "         2.64775239e+00, -3.14570020e+00,  3.70706101e+01]])"
      ]
     },
     "execution_count": 7,
     "metadata": {},
     "output_type": "execute_result"
    }
   ],
   "source": [
    "A"
   ]
  },
  {
   "cell_type": "code",
   "execution_count": 11,
   "metadata": {
    "ExecuteTime": {
     "end_time": "2020-10-06T21:01:47.011407Z",
     "start_time": "2020-10-06T21:01:46.915246Z"
    }
   },
   "outputs": [
    {
     "data": {
      "text/plain": [
       "<matplotlib.image.AxesImage at 0x2b4ebff358d0>"
      ]
     },
     "execution_count": 11,
     "metadata": {},
     "output_type": "execute_result"
    },
    {
     "data": {
      "image/png": "[encoded data removed]",
      "text/plain": [
       "<Figure size 288x288 with 1 Axes>"
      ]
     },
     "metadata": {
      "needs_background": "light"
     },
     "output_type": "display_data"
    }
   ],
   "source": [
    "plt.matshow(A[:10,:10])"
   ]
  },
  {
   "cell_type": "code",
   "execution_count": 12,
   "metadata": {
    "ExecuteTime": {
     "end_time": "2020-10-06T21:02:31.978437Z",
     "start_time": "2020-10-06T21:02:31.938119Z"
    }
   },
   "outputs": [
    {
     "data": {
      "text/plain": [
       "array([[0.03378872, 0.01726596, 0.01581253, ..., 0.02630818, 0.01548037,\n",
       "        0.01729019],\n",
       "       [0.01726596, 0.03378762, 0.0172579 , ..., 0.01425679, 0.02631551,\n",
       "        0.01547094],\n",
       "       [0.01581253, 0.0172579 , 0.03382815, ..., 0.0114872 , 0.01426645,\n",
       "        0.02634691],\n",
       "       ...,\n",
       "       [0.02630818, 0.01425679, 0.0114872 , ..., 0.03378965, 0.0172624 ,\n",
       "        0.01580791],\n",
       "       [0.01548037, 0.02631551, 0.01426645, ..., 0.0172624 , 0.03379811,\n",
       "        0.01727219],\n",
       "       [0.01729019, 0.01547094, 0.02634691, ..., 0.01580791, 0.01727219,\n",
       "        0.0338325 ]])"
      ]
     },
     "execution_count": 12,
     "metadata": {},
     "output_type": "execute_result"
    }
   ],
   "source": [
    "np.load('../AINV.npy')"
   ]
  },
  {
   "cell_type": "code",
   "execution_count": null,
   "metadata": {},
   "outputs": [],
   "source": []
  }
 ],
 "metadata": {
  "kernelspec": {
   "display_name": "Python 3",
   "language": "python",
   "name": "python3"
  },
  "language_info": {
   "codemirror_mode": {
    "name": "ipython",
    "version": 3
   },
   "file_extension": ".py",
   "mimetype": "text/x-python",
   "name": "python",
   "nbconvert_exporter": "python",
   "pygments_lexer": "ipython3",
   "version": "3.7.3"
  }
 },
 "nbformat": 4,
 "nbformat_minor": 2
}
